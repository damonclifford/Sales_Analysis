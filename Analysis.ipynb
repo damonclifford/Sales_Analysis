{
 "cells": [
  {
   "cell_type": "code",
   "execution_count": 1,
   "metadata": {},
   "outputs": [],
   "source": [
    "import pandas as pd\n",
    "import numpy as np\n",
    "import matplotlib.pyplot as plt\n",
    "%matplotlib inline\n",
    "import seaborn as sns\n",
    "import os\n",
    "import datetime\n",
    "import calendar"
   ]
  },
  {
   "cell_type": "markdown",
   "metadata": {},
   "source": [
    "Reading all the files in the folder and merge them to create out master dataframe."
   ]
  },
  {
   "cell_type": "code",
   "execution_count": 2,
   "metadata": {},
   "outputs": [],
   "source": [
    "df=pd.read_csv(\"./Sales_Data/Sales_April_2019.csv\")"
   ]
  },
  {
   "cell_type": "code",
   "execution_count": 3,
   "metadata": {},
   "outputs": [],
   "source": [
    "files=[file for file in os.listdir(\"./Sales_Data/\")]"
   ]
  },
  {
   "cell_type": "code",
   "execution_count": 4,
   "metadata": {},
   "outputs": [
    {
     "data": {
      "text/plain": [
       "['Sales_December_2019.csv',\n",
       " 'Sales_April_2019.csv',\n",
       " 'Sales_February_2019.csv',\n",
       " 'Sales_March_2019.csv',\n",
       " 'Sales_August_2019.csv',\n",
       " 'Sales_May_2019.csv',\n",
       " 'Sales_November_2019.csv',\n",
       " 'Sales_October_2019.csv',\n",
       " 'Sales_January_2019.csv',\n",
       " 'Sales_September_2019.csv',\n",
       " 'Sales_July_2019.csv',\n",
       " 'Sales_June_2019.csv']"
      ]
     },
     "execution_count": 4,
     "metadata": {},
     "output_type": "execute_result"
    }
   ],
   "source": [
    "files"
   ]
  },
  {
   "cell_type": "code",
   "execution_count": 17,
   "metadata": {},
   "outputs": [],
   "source": [
    "master=pd.DataFrame()\n",
    "\n",
    "for file in files:\n",
    "    df=pd.read_csv(\"./Sales_Data/\"+file)\n",
    "    master=pd.concat([master,df])\n",
    "\n",
    "master.to_csv(\"All_merged_data.csv\", index=False)"
   ]
  },
  {
   "cell_type": "code",
   "execution_count": 18,
   "metadata": {},
   "outputs": [],
   "source": [
    "master=pd.read_csv(\"All_merged_data.csv\")"
   ]
  },
  {
   "cell_type": "code",
   "execution_count": 19,
   "metadata": {},
   "outputs": [
    {
     "name": "stdout",
     "output_type": "stream",
     "text": [
      "<class 'pandas.core.frame.DataFrame'>\n",
      "RangeIndex: 186850 entries, 0 to 186849\n",
      "Data columns (total 6 columns):\n",
      "Order ID            186305 non-null object\n",
      "Product             186305 non-null object\n",
      "Quantity Ordered    186305 non-null object\n",
      "Price Each          186305 non-null object\n",
      "Order Date          186305 non-null object\n",
      "Purchase Address    186305 non-null object\n",
      "dtypes: object(6)\n",
      "memory usage: 8.6+ MB\n"
     ]
    }
   ],
   "source": [
    "master.info()"
   ]
  },
  {
   "cell_type": "code",
   "execution_count": 20,
   "metadata": {},
   "outputs": [],
   "source": [
    "master=master.dropna(how='all')"
   ]
  },
  {
   "cell_type": "code",
   "execution_count": 35,
   "metadata": {},
   "outputs": [],
   "source": [
    "# This cleanup was required as during the conversion into datetime datatype we noticed that\n",
    "# there were many such entries where all the values entered in the rows were the column names itself.\n",
    "# thus picking any column and checking if it matches with the column name can help us eliminate them.\n",
    "master=master[master['Order Date']!='Order Date']"
   ]
  },
  {
   "cell_type": "code",
   "execution_count": 22,
   "metadata": {},
   "outputs": [],
   "source": [
    "master['Order Date']=master['Order Date'].apply(lambda x: (datetime.datetime.strptime(str(x), \"%m/%d/%y %H:%M\")))"
   ]
  },
  {
   "cell_type": "code",
   "execution_count": 23,
   "metadata": {},
   "outputs": [],
   "source": [
    "master['month']=master['Order Date'].apply(lambda x:x.month)"
   ]
  },
  {
   "cell_type": "code",
   "execution_count": 24,
   "metadata": {},
   "outputs": [
    {
     "name": "stdout",
     "output_type": "stream",
     "text": [
      "<class 'pandas.core.frame.DataFrame'>\n",
      "Int64Index: 185950 entries, 0 to 186849\n",
      "Data columns (total 7 columns):\n",
      "Order ID            185950 non-null object\n",
      "Product             185950 non-null object\n",
      "Quantity Ordered    185950 non-null object\n",
      "Price Each          185950 non-null object\n",
      "Order Date          185950 non-null datetime64[ns]\n",
      "Purchase Address    185950 non-null object\n",
      "month               185950 non-null int64\n",
      "dtypes: datetime64[ns](1), int64(1), object(5)\n",
      "memory usage: 11.3+ MB\n"
     ]
    }
   ],
   "source": [
    "master.info()\n",
    "# Notice the reduction in entries."
   ]
  },
  {
   "cell_type": "markdown",
   "metadata": {},
   "source": [
    "### Q1. What was the Best month for sale?"
   ]
  },
  {
   "cell_type": "code",
   "execution_count": 25,
   "metadata": {},
   "outputs": [],
   "source": [
    "#Converting the columns in to apt dtypes, all above were object/string.\n",
    "master['Price Each']=master['Price Each'].apply(lambda x: float(x))"
   ]
  },
  {
   "cell_type": "code",
   "execution_count": 27,
   "metadata": {},
   "outputs": [],
   "source": [
    "master['Quantity Ordered']=master['Quantity Ordered'].apply(lambda x:int(x))"
   ]
  },
  {
   "cell_type": "code",
   "execution_count": 28,
   "metadata": {},
   "outputs": [],
   "source": [
    "master['Order Value']=master['Quantity Ordered']*master['Price Each']"
   ]
  },
  {
   "cell_type": "code",
   "execution_count": 31,
   "metadata": {},
   "outputs": [
    {
     "data": {
      "text/plain": [
       "<matplotlib.axes._subplots.AxesSubplot at 0x1206ca2e8>"
      ]
     },
     "execution_count": 31,
     "metadata": {},
     "output_type": "execute_result"
    },
    {
     "data": {
      "image/png": "[encoded data removed]",
      "text/plain": [
       "<Figure size 432x288 with 1 Axes>"
      ]
     },
     "metadata": {
      "needs_background": "light"
     },
     "output_type": "display_data"
    }
   ],
   "source": [
    "plt.xticks(rotation=90)\n",
    "sns.barplot(x=calendar.month_name[1:13],y=master.groupby('month').sum()['Order Value'],palette='magma')"
   ]
  },
  {
   "cell_type": "markdown",
   "metadata": {},
   "source": [
    "### Q2. Which City had the most sales?"
   ]
  },
  {
   "cell_type": "code",
   "execution_count": 32,
   "metadata": {},
   "outputs": [],
   "source": [
    "def find_city(y):\n",
    "    return(y[y.find('St,')+4 : y.find(',',y.find('St,')+4)])\n",
    "#alternatively can use: y.split(',')[1] \n",
    "## this means it will split the string based on ',' the grab the [1]th element frmo the list of split substrings"
   ]
  },
  {
   "cell_type": "code",
   "execution_count": 33,
   "metadata": {},
   "outputs": [],
   "source": [
    "master['Cities']=master['Purchase Address'].apply(lambda x: find_city(x))"
   ]
  },
  {
   "cell_type": "code",
   "execution_count": 34,
   "metadata": {},
   "outputs": [
    {
     "data": {
      "text/plain": [
       "<matplotlib.axes._subplots.AxesSubplot at 0x11eeb30b8>"
      ]
     },
     "execution_count": 34,
     "metadata": {},
     "output_type": "execute_result"
    },
    {
     "data": {
      "image/png": "[encoded data removed]",
      "text/plain": [
       "<Figure size 432x288 with 1 Axes>"
      ]
     },
     "metadata": {
      "needs_background": "light"
     },
     "output_type": "display_data"
    }
   ],
   "source": [
    "plt.xticks(rotation=90)\n",
    "sns.barplot(x=np.sort(master['Cities'].unique()),y=master.groupby('Cities').sum()['Order Value'],palette='magma')"
   ]
  },
  {
   "cell_type": "code",
   "execution_count": 23,
   "metadata": {},
   "outputs": [
    {
     "data": {
      "text/html": [
       "<div>\n",
       "<style scoped>\n",
       "    .dataframe tbody tr th:only-of-type {\n",
       "        vertical-align: middle;\n",
       "    }\n",
       "\n",
       "    .dataframe tbody tr th {\n",
       "        vertical-align: top;\n",
       "    }\n",
       "\n",
       "    .dataframe thead th {\n",
       "        text-align: right;\n",
       "    }\n",
       "</style>\n",
       "<table border=\"1\" class=\"dataframe\">\n",
       "  <thead>\n",
       "    <tr style=\"text-align: right;\">\n",
       "      <th></th>\n",
       "      <th>Quantity Ordered</th>\n",
       "      <th>Price Each</th>\n",
       "      <th>month</th>\n",
       "      <th>Order Value</th>\n",
       "    </tr>\n",
       "    <tr>\n",
       "      <th>Cities</th>\n",
       "      <th></th>\n",
       "      <th></th>\n",
       "      <th></th>\n",
       "      <th></th>\n",
       "    </tr>\n",
       "  </thead>\n",
       "  <tbody>\n",
       "    <tr>\n",
       "      <th>Atlanta</th>\n",
       "      <td>16602</td>\n",
       "      <td>2.779908e+06</td>\n",
       "      <td>104794</td>\n",
       "      <td>2.795499e+06</td>\n",
       "    </tr>\n",
       "    <tr>\n",
       "      <th>Austin</th>\n",
       "      <td>11153</td>\n",
       "      <td>1.809874e+06</td>\n",
       "      <td>69829</td>\n",
       "      <td>1.819582e+06</td>\n",
       "    </tr>\n",
       "    <tr>\n",
       "      <th>Boston</th>\n",
       "      <td>22528</td>\n",
       "      <td>3.637410e+06</td>\n",
       "      <td>141112</td>\n",
       "      <td>3.661642e+06</td>\n",
       "    </tr>\n",
       "    <tr>\n",
       "      <th>Dallas</th>\n",
       "      <td>16730</td>\n",
       "      <td>2.752628e+06</td>\n",
       "      <td>104620</td>\n",
       "      <td>2.767975e+06</td>\n",
       "    </tr>\n",
       "    <tr>\n",
       "      <th>Los Angeles</th>\n",
       "      <td>33289</td>\n",
       "      <td>5.421435e+06</td>\n",
       "      <td>208325</td>\n",
       "      <td>5.452571e+06</td>\n",
       "    </tr>\n",
       "    <tr>\n",
       "      <th>New York City</th>\n",
       "      <td>27932</td>\n",
       "      <td>4.635371e+06</td>\n",
       "      <td>175741</td>\n",
       "      <td>4.664317e+06</td>\n",
       "    </tr>\n",
       "    <tr>\n",
       "      <th>Portland</th>\n",
       "      <td>14053</td>\n",
       "      <td>2.307747e+06</td>\n",
       "      <td>87765</td>\n",
       "      <td>2.320491e+06</td>\n",
       "    </tr>\n",
       "    <tr>\n",
       "      <th>San Francisco</th>\n",
       "      <td>50239</td>\n",
       "      <td>8.211462e+06</td>\n",
       "      <td>315520</td>\n",
       "      <td>8.262204e+06</td>\n",
       "    </tr>\n",
       "    <tr>\n",
       "      <th>Seattle</th>\n",
       "      <td>16553</td>\n",
       "      <td>2.733296e+06</td>\n",
       "      <td>104941</td>\n",
       "      <td>2.747755e+06</td>\n",
       "    </tr>\n",
       "  </tbody>\n",
       "</table>\n",
       "</div>"
      ],
      "text/plain": [
       "               Quantity Ordered    Price Each   month   Order Value\n",
       "Cities                                                             \n",
       "Atlanta                   16602  2.779908e+06  104794  2.795499e+06\n",
       "Austin                    11153  1.809874e+06   69829  1.819582e+06\n",
       "Boston                    22528  3.637410e+06  141112  3.661642e+06\n",
       "Dallas                    16730  2.752628e+06  104620  2.767975e+06\n",
       "Los Angeles               33289  5.421435e+06  208325  5.452571e+06\n",
       "New York City             27932  4.635371e+06  175741  4.664317e+06\n",
       "Portland                  14053  2.307747e+06   87765  2.320491e+06\n",
       "San Francisco             50239  8.211462e+06  315520  8.262204e+06\n",
       "Seattle                   16553  2.733296e+06  104941  2.747755e+06"
      ]
     },
     "execution_count": 23,
     "metadata": {},
     "output_type": "execute_result"
    }
   ],
   "source": [
    "master.groupby('Cities').sum()"
   ]
  },
  {
   "cell_type": "markdown",
   "metadata": {},
   "source": [
    "There can be a possibility that multiple cities are named the same, and we have grouped them as one.<br>\n",
    "To solve this we can grab the state along with the city names while parsing the address column."
   ]
  },
  {
   "cell_type": "markdown",
   "metadata": {},
   "source": [
    "### Q3. What would be a good time to display advertisement to maximise purchases.\n",
    "\n"
   ]
  },
  {
   "cell_type": "markdown",
   "metadata": {},
   "source": [
    "To address this we are trying to aggregate the sales volume and value over all the hours of the day."
   ]
  },
  {
   "cell_type": "code",
   "execution_count": 38,
   "metadata": {},
   "outputs": [],
   "source": [
    "master['Hour']=master['Order Date'].apply(lambda x:x.hour)"
   ]
  },
  {
   "cell_type": "code",
   "execution_count": 39,
   "metadata": {},
   "outputs": [
    {
     "data": {
      "text/html": [
       "<div>\n",
       "<style scoped>\n",
       "    .dataframe tbody tr th:only-of-type {\n",
       "        vertical-align: middle;\n",
       "    }\n",
       "\n",
       "    .dataframe tbody tr th {\n",
       "        vertical-align: top;\n",
       "    }\n",
       "\n",
       "    .dataframe thead th {\n",
       "        text-align: right;\n",
       "    }\n",
       "</style>\n",
       "<table border=\"1\" class=\"dataframe\">\n",
       "  <thead>\n",
       "    <tr style=\"text-align: right;\">\n",
       "      <th></th>\n",
       "      <th>Quantity Ordered</th>\n",
       "      <th>Price Each</th>\n",
       "      <th>month</th>\n",
       "      <th>Order Value</th>\n",
       "    </tr>\n",
       "    <tr>\n",
       "      <th>Hour</th>\n",
       "      <th></th>\n",
       "      <th></th>\n",
       "      <th></th>\n",
       "      <th></th>\n",
       "    </tr>\n",
       "  </thead>\n",
       "  <tbody>\n",
       "    <tr>\n",
       "      <th>0</th>\n",
       "      <td>4428</td>\n",
       "      <td>709296.70</td>\n",
       "      <td>27554</td>\n",
       "      <td>713721.27</td>\n",
       "    </tr>\n",
       "    <tr>\n",
       "      <th>1</th>\n",
       "      <td>2619</td>\n",
       "      <td>458490.00</td>\n",
       "      <td>16657</td>\n",
       "      <td>460866.88</td>\n",
       "    </tr>\n",
       "    <tr>\n",
       "      <th>2</th>\n",
       "      <td>1398</td>\n",
       "      <td>233833.64</td>\n",
       "      <td>8507</td>\n",
       "      <td>234851.44</td>\n",
       "    </tr>\n",
       "    <tr>\n",
       "      <th>3</th>\n",
       "      <td>928</td>\n",
       "      <td>144726.42</td>\n",
       "      <td>5904</td>\n",
       "      <td>145757.89</td>\n",
       "    </tr>\n",
       "    <tr>\n",
       "      <th>4</th>\n",
       "      <td>937</td>\n",
       "      <td>162058.18</td>\n",
       "      <td>6148</td>\n",
       "      <td>162661.01</td>\n",
       "    </tr>\n",
       "    <tr>\n",
       "      <th>5</th>\n",
       "      <td>1493</td>\n",
       "      <td>229621.21</td>\n",
       "      <td>9301</td>\n",
       "      <td>230679.82</td>\n",
       "    </tr>\n",
       "    <tr>\n",
       "      <th>6</th>\n",
       "      <td>2810</td>\n",
       "      <td>445000.11</td>\n",
       "      <td>17539</td>\n",
       "      <td>448113.00</td>\n",
       "    </tr>\n",
       "    <tr>\n",
       "      <th>7</th>\n",
       "      <td>4556</td>\n",
       "      <td>740568.11</td>\n",
       "      <td>28850</td>\n",
       "      <td>744854.12</td>\n",
       "    </tr>\n",
       "    <tr>\n",
       "      <th>8</th>\n",
       "      <td>7002</td>\n",
       "      <td>1185970.62</td>\n",
       "      <td>43626</td>\n",
       "      <td>1192348.97</td>\n",
       "    </tr>\n",
       "    <tr>\n",
       "      <th>9</th>\n",
       "      <td>9816</td>\n",
       "      <td>1628498.49</td>\n",
       "      <td>60981</td>\n",
       "      <td>1639030.58</td>\n",
       "    </tr>\n",
       "    <tr>\n",
       "      <th>10</th>\n",
       "      <td>12308</td>\n",
       "      <td>1932665.62</td>\n",
       "      <td>76928</td>\n",
       "      <td>1944286.77</td>\n",
       "    </tr>\n",
       "    <tr>\n",
       "      <th>11</th>\n",
       "      <td>14005</td>\n",
       "      <td>2288855.18</td>\n",
       "      <td>87654</td>\n",
       "      <td>2300610.24</td>\n",
       "    </tr>\n",
       "    <tr>\n",
       "      <th>12</th>\n",
       "      <td>14202</td>\n",
       "      <td>2299876.68</td>\n",
       "      <td>89161</td>\n",
       "      <td>2316821.34</td>\n",
       "    </tr>\n",
       "    <tr>\n",
       "      <th>13</th>\n",
       "      <td>13685</td>\n",
       "      <td>2139743.86</td>\n",
       "      <td>85808</td>\n",
       "      <td>2155389.80</td>\n",
       "    </tr>\n",
       "    <tr>\n",
       "      <th>14</th>\n",
       "      <td>12362</td>\n",
       "      <td>2072194.77</td>\n",
       "      <td>77836</td>\n",
       "      <td>2083672.73</td>\n",
       "    </tr>\n",
       "    <tr>\n",
       "      <th>15</th>\n",
       "      <td>11391</td>\n",
       "      <td>1931174.99</td>\n",
       "      <td>72060</td>\n",
       "      <td>1941549.60</td>\n",
       "    </tr>\n",
       "    <tr>\n",
       "      <th>16</th>\n",
       "      <td>11662</td>\n",
       "      <td>1892454.54</td>\n",
       "      <td>72939</td>\n",
       "      <td>1904601.31</td>\n",
       "    </tr>\n",
       "    <tr>\n",
       "      <th>17</th>\n",
       "      <td>12229</td>\n",
       "      <td>2116777.02</td>\n",
       "      <td>77454</td>\n",
       "      <td>2129361.61</td>\n",
       "    </tr>\n",
       "    <tr>\n",
       "      <th>18</th>\n",
       "      <td>13802</td>\n",
       "      <td>2207696.93</td>\n",
       "      <td>86421</td>\n",
       "      <td>2219348.30</td>\n",
       "    </tr>\n",
       "    <tr>\n",
       "      <th>19</th>\n",
       "      <td>14470</td>\n",
       "      <td>2398588.31</td>\n",
       "      <td>91389</td>\n",
       "      <td>2412938.54</td>\n",
       "    </tr>\n",
       "    <tr>\n",
       "      <th>20</th>\n",
       "      <td>13768</td>\n",
       "      <td>2268185.16</td>\n",
       "      <td>86375</td>\n",
       "      <td>2281716.24</td>\n",
       "    </tr>\n",
       "    <tr>\n",
       "      <th>21</th>\n",
       "      <td>12244</td>\n",
       "      <td>2030763.83</td>\n",
       "      <td>77103</td>\n",
       "      <td>2042000.86</td>\n",
       "    </tr>\n",
       "    <tr>\n",
       "      <th>22</th>\n",
       "      <td>9899</td>\n",
       "      <td>1599464.44</td>\n",
       "      <td>62088</td>\n",
       "      <td>1607549.21</td>\n",
       "    </tr>\n",
       "    <tr>\n",
       "      <th>23</th>\n",
       "      <td>7065</td>\n",
       "      <td>1172625.87</td>\n",
       "      <td>44364</td>\n",
       "      <td>1179304.44</td>\n",
       "    </tr>\n",
       "  </tbody>\n",
       "</table>\n",
       "</div>"
      ],
      "text/plain": [
       "      Quantity Ordered  Price Each  month  Order Value\n",
       "Hour                                                  \n",
       "0                 4428   709296.70  27554    713721.27\n",
       "1                 2619   458490.00  16657    460866.88\n",
       "2                 1398   233833.64   8507    234851.44\n",
       "3                  928   144726.42   5904    145757.89\n",
       "4                  937   162058.18   6148    162661.01\n",
       "5                 1493   229621.21   9301    230679.82\n",
       "6                 2810   445000.11  17539    448113.00\n",
       "7                 4556   740568.11  28850    744854.12\n",
       "8                 7002  1185970.62  43626   1192348.97\n",
       "9                 9816  1628498.49  60981   1639030.58\n",
       "10               12308  1932665.62  76928   1944286.77\n",
       "11               14005  2288855.18  87654   2300610.24\n",
       "12               14202  2299876.68  89161   2316821.34\n",
       "13               13685  2139743.86  85808   2155389.80\n",
       "14               12362  2072194.77  77836   2083672.73\n",
       "15               11391  1931174.99  72060   1941549.60\n",
       "16               11662  1892454.54  72939   1904601.31\n",
       "17               12229  2116777.02  77454   2129361.61\n",
       "18               13802  2207696.93  86421   2219348.30\n",
       "19               14470  2398588.31  91389   2412938.54\n",
       "20               13768  2268185.16  86375   2281716.24\n",
       "21               12244  2030763.83  77103   2042000.86\n",
       "22                9899  1599464.44  62088   1607549.21\n",
       "23                7065  1172625.87  44364   1179304.44"
      ]
     },
     "execution_count": 39,
     "metadata": {},
     "output_type": "execute_result"
    }
   ],
   "source": [
    "master.groupby('Hour').sum()"
   ]
  },
  {
   "cell_type": "code",
   "execution_count": 40,
   "metadata": {},
   "outputs": [
    {
     "data": {
      "text/plain": [
       "<matplotlib.axes._subplots.AxesSubplot at 0x11ee80ef0>"
      ]
     },
     "execution_count": 40,
     "metadata": {},
     "output_type": "execute_result"
    },
    {
     "data": {
      "image/png": "[encoded data removed]",
      "text/plain": [
       "<Figure size 432x288 with 1 Axes>"
      ]
     },
     "metadata": {
      "needs_background": "light"
     },
     "output_type": "display_data"
    }
   ],
   "source": [
    "sns.barplot(x=np.sort(master['Hour'].unique()),y=master.groupby('Hour').sum()['Order Value'],palette='viridis')"
   ]
  },
  {
   "cell_type": "markdown",
   "metadata": {},
   "source": [
    "In the above problem, getting the median or similar sales value may be more useful. \n",
    "we can further aggregate them on a heat map on a weekly basis."
   ]
  },
  {
   "cell_type": "markdown",
   "metadata": {},
   "source": [
    "### Q4. What products are most often sold together?\n",
    "As usual there are multiple ways to answer this question, but in order to brnig in some sort of vizualization into the solution we will create a heat map of all the products sold together. "
   ]
  },
  {
   "cell_type": "code",
   "execution_count": 26,
   "metadata": {},
   "outputs": [
    {
     "data": {
      "text/plain": [
       "USB-C Charging Cable          21903\n",
       "Lightning Charging Cable      21658\n",
       "AAA Batteries (4-pack)        20641\n",
       "AA Batteries (4-pack)         20577\n",
       "Wired Headphones              18882\n",
       "Apple Airpods Headphones      15549\n",
       "Bose SoundSport Headphones    13325\n",
       "27in FHD Monitor               7507\n",
       "iPhone                         6842\n",
       "27in 4K Gaming Monitor         6230\n",
       "34in Ultrawide Monitor         6181\n",
       "Google Phone                   5525\n",
       "Flatscreen TV                  4800\n",
       "Macbook Pro Laptop             4724\n",
       "ThinkPad Laptop                4128\n",
       "20in Monitor                   4101\n",
       "Vareebadd Phone                2065\n",
       "LG Washing Machine              666\n",
       "LG Dryer                        646\n",
       "Name: Product, dtype: int64"
      ]
     },
     "execution_count": 26,
     "metadata": {},
     "output_type": "execute_result"
    }
   ],
   "source": [
    "master['Product'].value_counts()"
   ]
  },
  {
   "cell_type": "code",
   "execution_count": 53,
   "metadata": {},
   "outputs": [
    {
     "data": {
      "text/plain": [
       "8413"
      ]
     },
     "execution_count": 53,
     "metadata": {},
     "output_type": "execute_result"
    }
   ],
   "source": [
    "186850-master['Order ID'].nunique()\n",
    "# This is basically a count of all the orders that had multiple items, as we are only concerned with those. "
   ]
  },
  {
   "cell_type": "code",
   "execution_count": 54,
   "metadata": {},
   "outputs": [],
   "source": [
    "# This is a table of all the unique order ids in the master data and their respective frequency.\n",
    "counts= pd.DataFrame(master['Order ID'].value_counts())"
   ]
  },
  {
   "cell_type": "code",
   "execution_count": 56,
   "metadata": {},
   "outputs": [],
   "source": [
    "counts.reset_index(inplace=True)\n",
    "counts.rename(columns={'Order ID': 'Frequency'},inplace=True)"
   ]
  },
  {
   "cell_type": "code",
   "execution_count": 57,
   "metadata": {},
   "outputs": [
    {
     "data": {
      "text/html": [
       "<div>\n",
       "<style scoped>\n",
       "    .dataframe tbody tr th:only-of-type {\n",
       "        vertical-align: middle;\n",
       "    }\n",
       "\n",
       "    .dataframe tbody tr th {\n",
       "        vertical-align: top;\n",
       "    }\n",
       "\n",
       "    .dataframe thead th {\n",
       "        text-align: right;\n",
       "    }\n",
       "</style>\n",
       "<table border=\"1\" class=\"dataframe\">\n",
       "  <thead>\n",
       "    <tr style=\"text-align: right;\">\n",
       "      <th></th>\n",
       "      <th>index</th>\n",
       "      <th>Frequency</th>\n",
       "    </tr>\n",
       "  </thead>\n",
       "  <tbody>\n",
       "    <tr>\n",
       "      <th>0</th>\n",
       "      <td>160873</td>\n",
       "      <td>5</td>\n",
       "    </tr>\n",
       "    <tr>\n",
       "      <th>1</th>\n",
       "      <td>277875</td>\n",
       "      <td>4</td>\n",
       "    </tr>\n",
       "    <tr>\n",
       "      <th>2</th>\n",
       "      <td>312407</td>\n",
       "      <td>4</td>\n",
       "    </tr>\n",
       "    <tr>\n",
       "      <th>3</th>\n",
       "      <td>178158</td>\n",
       "      <td>4</td>\n",
       "    </tr>\n",
       "    <tr>\n",
       "      <th>4</th>\n",
       "      <td>226625</td>\n",
       "      <td>4</td>\n",
       "    </tr>\n",
       "  </tbody>\n",
       "</table>\n",
       "</div>"
      ],
      "text/plain": [
       "    index  Frequency\n",
       "0  160873          5\n",
       "1  277875          4\n",
       "2  312407          4\n",
       "3  178158          4\n",
       "4  226625          4"
      ]
     },
     "execution_count": 57,
     "metadata": {},
     "output_type": "execute_result"
    }
   ],
   "source": [
    "counts.head()"
   ]
  },
  {
   "cell_type": "code",
   "execution_count": 46,
   "metadata": {},
   "outputs": [],
   "source": [
    "# We created a seperate dataframe with all the oders with more than one item.\n",
    "# Not the most elegant code, but hey it works!\n",
    "# Running this will take time, as will any operation in python which involves iteration over all the rows.\n",
    "# Looks more like java rather than python.\n",
    "corder=pd.DataFrame()\n",
    "for i in counts[counts['Order ID']>1]['index']:\n",
    "    corder=pd.concat([corder,master[master['Order ID']==i]])"
   ]
  },
  {
   "cell_type": "code",
   "execution_count": 47,
   "metadata": {},
   "outputs": [
    {
     "name": "stdout",
     "output_type": "stream",
     "text": [
      "<class 'pandas.core.frame.DataFrame'>\n",
      "Int64Index: 14649 entries, 54336 to 77563\n",
      "Data columns (total 10 columns):\n",
      "Order ID            14649 non-null object\n",
      "Product             14649 non-null object\n",
      "Quantity Ordered    14649 non-null int64\n",
      "Price Each          14649 non-null float64\n",
      "Order Date          14649 non-null datetime64[ns]\n",
      "Purchase Address    14649 non-null object\n",
      "month               14649 non-null int64\n",
      "Order Value         14649 non-null float64\n",
      "Cities              14649 non-null object\n",
      "Hour                14649 non-null int64\n",
      "dtypes: datetime64[ns](1), float64(2), int64(3), object(4)\n",
      "memory usage: 1.2+ MB\n"
     ]
    }
   ],
   "source": [
    "corder.info()"
   ]
  },
  {
   "cell_type": "code",
   "execution_count": 58,
   "metadata": {},
   "outputs": [
    {
     "data": {
      "text/html": [
       "<div>\n",
       "<style scoped>\n",
       "    .dataframe tbody tr th:only-of-type {\n",
       "        vertical-align: middle;\n",
       "    }\n",
       "\n",
       "    .dataframe tbody tr th {\n",
       "        vertical-align: top;\n",
       "    }\n",
       "\n",
       "    .dataframe thead th {\n",
       "        text-align: right;\n",
       "    }\n",
       "</style>\n",
       "<table border=\"1\" class=\"dataframe\">\n",
       "  <thead>\n",
       "    <tr style=\"text-align: right;\">\n",
       "      <th></th>\n",
       "      <th>Order ID</th>\n",
       "      <th>Product</th>\n",
       "      <th>Quantity Ordered</th>\n",
       "      <th>Price Each</th>\n",
       "      <th>Order Date</th>\n",
       "      <th>Purchase Address</th>\n",
       "      <th>month</th>\n",
       "      <th>Order Value</th>\n",
       "      <th>Cities</th>\n",
       "      <th>Hour</th>\n",
       "    </tr>\n",
       "  </thead>\n",
       "  <tbody>\n",
       "    <tr>\n",
       "      <th>54336</th>\n",
       "      <td>160873</td>\n",
       "      <td>iPhone</td>\n",
       "      <td>1</td>\n",
       "      <td>700.00</td>\n",
       "      <td>2019-02-10 10:24:00</td>\n",
       "      <td>702 River St, San Francisco, CA 94016</td>\n",
       "      <td>2</td>\n",
       "      <td>700.00</td>\n",
       "      <td>San Francisco</td>\n",
       "      <td>10</td>\n",
       "    </tr>\n",
       "    <tr>\n",
       "      <th>54337</th>\n",
       "      <td>160873</td>\n",
       "      <td>Lightning Charging Cable</td>\n",
       "      <td>1</td>\n",
       "      <td>14.95</td>\n",
       "      <td>2019-02-10 10:24:00</td>\n",
       "      <td>702 River St, San Francisco, CA 94016</td>\n",
       "      <td>2</td>\n",
       "      <td>14.95</td>\n",
       "      <td>San Francisco</td>\n",
       "      <td>10</td>\n",
       "    </tr>\n",
       "    <tr>\n",
       "      <th>54338</th>\n",
       "      <td>160873</td>\n",
       "      <td>Apple Airpods Headphones</td>\n",
       "      <td>1</td>\n",
       "      <td>150.00</td>\n",
       "      <td>2019-02-10 10:24:00</td>\n",
       "      <td>702 River St, San Francisco, CA 94016</td>\n",
       "      <td>2</td>\n",
       "      <td>150.00</td>\n",
       "      <td>San Francisco</td>\n",
       "      <td>10</td>\n",
       "    </tr>\n",
       "    <tr>\n",
       "      <th>54339</th>\n",
       "      <td>160873</td>\n",
       "      <td>Wired Headphones</td>\n",
       "      <td>1</td>\n",
       "      <td>11.99</td>\n",
       "      <td>2019-02-10 10:24:00</td>\n",
       "      <td>702 River St, San Francisco, CA 94016</td>\n",
       "      <td>2</td>\n",
       "      <td>11.99</td>\n",
       "      <td>San Francisco</td>\n",
       "      <td>10</td>\n",
       "    </tr>\n",
       "    <tr>\n",
       "      <th>54340</th>\n",
       "      <td>160873</td>\n",
       "      <td>Google Phone</td>\n",
       "      <td>1</td>\n",
       "      <td>600.00</td>\n",
       "      <td>2019-02-10 10:24:00</td>\n",
       "      <td>702 River St, San Francisco, CA 94016</td>\n",
       "      <td>2</td>\n",
       "      <td>600.00</td>\n",
       "      <td>San Francisco</td>\n",
       "      <td>10</td>\n",
       "    </tr>\n",
       "  </tbody>\n",
       "</table>\n",
       "</div>"
      ],
      "text/plain": [
       "      Order ID                   Product  Quantity Ordered  Price Each  \\\n",
       "54336   160873                    iPhone                 1      700.00   \n",
       "54337   160873  Lightning Charging Cable                 1       14.95   \n",
       "54338   160873  Apple Airpods Headphones                 1      150.00   \n",
       "54339   160873          Wired Headphones                 1       11.99   \n",
       "54340   160873              Google Phone                 1      600.00   \n",
       "\n",
       "               Order Date                       Purchase Address  month  \\\n",
       "54336 2019-02-10 10:24:00  702 River St, San Francisco, CA 94016      2   \n",
       "54337 2019-02-10 10:24:00  702 River St, San Francisco, CA 94016      2   \n",
       "54338 2019-02-10 10:24:00  702 River St, San Francisco, CA 94016      2   \n",
       "54339 2019-02-10 10:24:00  702 River St, San Francisco, CA 94016      2   \n",
       "54340 2019-02-10 10:24:00  702 River St, San Francisco, CA 94016      2   \n",
       "\n",
       "       Order Value         Cities  Hour  \n",
       "54336       700.00  San Francisco    10  \n",
       "54337        14.95  San Francisco    10  \n",
       "54338       150.00  San Francisco    10  \n",
       "54339        11.99  San Francisco    10  \n",
       "54340       600.00  San Francisco    10  "
      ]
     },
     "execution_count": 58,
     "metadata": {},
     "output_type": "execute_result"
    }
   ],
   "source": [
    "corder.head()"
   ]
  },
  {
   "cell_type": "code",
   "execution_count": 60,
   "metadata": {},
   "outputs": [],
   "source": [
    "#Fixing the above index issue.\n",
    "corder.reset_index(inplace=True)\n",
    "corder.drop('index',axis=1,inplace=True)"
   ]
  },
  {
   "cell_type": "code",
   "execution_count": 62,
   "metadata": {},
   "outputs": [
    {
     "data": {
      "text/plain": [
       "array(['iPhone', 'Lightning Charging Cable', 'Apple Airpods Headphones',\n",
       "       'Wired Headphones', 'Google Phone', 'USB-C Charging Cable',\n",
       "       '27in FHD Monitor', 'Bose SoundSport Headphones',\n",
       "       '34in Ultrawide Monitor', 'Vareebadd Phone',\n",
       "       'AA Batteries (4-pack)', 'AAA Batteries (4-pack)', 'Flatscreen TV',\n",
       "       'Macbook Pro Laptop', '27in 4K Gaming Monitor', '20in Monitor',\n",
       "       'ThinkPad Laptop', 'LG Dryer', 'LG Washing Machine'], dtype=object)"
      ]
     },
     "execution_count": 62,
     "metadata": {},
     "output_type": "execute_result"
    }
   ],
   "source": [
    "corder['Product'].unique()"
   ]
  },
  {
   "cell_type": "markdown",
   "metadata": {
    "collapsed": true
   },
   "source": [
    "**What we do below is, we create a 19x19 matrix, it is the umber of unique products sold. we will try to populate the matrix with the fequency of each product sold with the other one.<br>\n",
    "To do this, we pick each unique element and add an unit to the corresponding matrix in order to count the number of times the other product was sold along with it.**"
   ]
  },
  {
   "cell_type": "code",
   "execution_count": 63,
   "metadata": {
    "scrolled": true
   },
   "outputs": [
    {
     "name": "stdout",
     "output_type": "stream",
     "text": [
      "CPU times: user 6 µs, sys: 1 µs, total: 7 µs\n",
      "Wall time: 11 µs\n"
     ]
    }
   ],
   "source": [
    "%time\n",
    "m=np.zeros([19,19])\n",
    "product=corder['Product'].unique()\n",
    "for i in range(19):\n",
    "    for j in range (19):\n",
    "        #if i>j:\n",
    "            ids=corder[corder['Product']==product[i]]['Order ID']\n",
    "            for k in ids:\n",
    "                if (product[j] in corder[(corder['Order ID']==k)]['Product'].values):\n",
    "                    m[i][j]=m[i][j]+1\n",
    "                         "
   ]
  },
  {
   "cell_type": "code",
   "execution_count": 64,
   "metadata": {},
   "outputs": [
    {
     "name": "stdout",
     "output_type": "stream",
     "text": [
      "[[1.867e+03 1.012e+03 3.730e+02 4.620e+02 9.000e+00 2.900e+01 2.000e+00\n",
      "  1.200e+01 1.300e+01 7.000e+00 3.200e+01 3.100e+01 1.000e+01 6.000e+00\n",
      "  9.000e+00 3.000e+00 7.000e+00 0.000e+00 2.000e+00]\n",
      " [1.014e+03 1.827e+03 1.160e+02 1.290e+02 2.800e+01 1.000e+02 3.600e+01\n",
      "  7.200e+01 3.300e+01 4.000e+00 1.060e+02 8.000e+01 2.200e+01 2.100e+01\n",
      "  3.400e+01 2.600e+01 2.000e+01 3.000e+00 6.000e+00]\n",
      " [3.730e+02 1.160e+02 9.740e+02 1.000e+02 2.100e+01 6.300e+01 2.400e+01\n",
      "  5.000e+01 1.400e+01 1.200e+01 7.000e+01 8.100e+01 1.300e+01 1.900e+01\n",
      "  2.200e+01 1.300e+01 1.600e+01 3.000e+00 1.000e+00]\n",
      " [4.620e+02 1.290e+02 1.000e+02 1.674e+03 4.230e+02 2.040e+02 2.200e+01\n",
      "  7.400e+01 2.800e+01 1.490e+02 8.300e+01 8.600e+01 1.100e+01 2.000e+01\n",
      "  2.900e+01 1.900e+01 1.400e+01 1.000e+00 4.000e+00]\n",
      " [9.000e+00 2.800e+01 2.100e+01 4.220e+02 1.639e+03 9.970e+02 8.000e+00\n",
      "  2.280e+02 5.000e+00 5.000e+00 2.500e+01 2.200e+01 4.000e+00 7.000e+00\n",
      "  6.000e+00 4.000e+00 6.000e+00 1.000e+00 1.000e+00]\n",
      " [2.900e+01 1.000e+02 6.300e+01 2.040e+02 9.990e+02 2.111e+03 4.300e+01\n",
      "  1.020e+02 2.600e+01 3.680e+02 7.500e+01 9.500e+01 1.700e+01 2.100e+01\n",
      "  2.300e+01 2.500e+01 2.000e+01 1.000e+00 0.000e+00]\n",
      " [2.000e+00 3.600e+01 2.400e+01 2.200e+01 8.000e+00 4.300e+01 2.940e+02\n",
      "  2.600e+01 1.000e+01 2.000e+00 2.600e+01 4.300e+01 6.000e+00 9.000e+00\n",
      "  8.000e+00 5.000e+00 6.000e+00 3.000e+00 1.000e+00]\n",
      " [1.200e+01 7.200e+01 5.000e+01 7.400e+01 2.280e+02 1.020e+02 2.600e+01\n",
      "  8.200e+02 1.700e+01 8.200e+01 5.500e+01 5.700e+01 1.300e+01 1.500e+01\n",
      "  1.900e+01 1.500e+01 1.300e+01 0.000e+00 2.000e+00]\n",
      " [1.300e+01 3.300e+01 1.400e+01 2.800e+01 5.000e+00 2.600e+01 1.000e+01\n",
      "  1.700e+01 2.460e+02 4.000e+00 3.200e+01 2.500e+01 8.000e+00 7.000e+00\n",
      "  6.000e+00 2.000e+00 4.000e+00 0.000e+00 1.000e+00]\n",
      " [7.000e+00 4.000e+00 1.200e+01 1.490e+02 5.000e+00 3.680e+02 2.000e+00\n",
      "  8.200e+01 4.000e+00 6.010e+02 1.200e+01 6.000e+00 3.000e+00 0.000e+00\n",
      "  3.000e+00 0.000e+00 3.000e+00 1.000e+00 0.000e+00]\n",
      " [3.200e+01 1.060e+02 7.000e+01 8.300e+01 2.500e+01 7.500e+01 2.600e+01\n",
      "  5.500e+01 3.200e+01 1.200e+01 7.680e+02 8.700e+01 2.100e+01 1.700e+01\n",
      "  2.600e+01 1.600e+01 1.700e+01 6.000e+00 1.000e+00]\n",
      " [3.100e+01 8.000e+01 8.100e+01 8.600e+01 2.200e+01 9.500e+01 4.300e+01\n",
      "  5.700e+01 2.500e+01 6.000e+00 8.700e+01 8.150e+02 2.100e+01 1.800e+01\n",
      "  3.000e+01 1.100e+01 2.700e+01 2.000e+00 4.000e+00]\n",
      " [1.000e+01 2.200e+01 1.300e+01 1.100e+01 4.000e+00 1.700e+01 6.000e+00\n",
      "  1.300e+01 8.000e+00 3.000e+00 2.100e+01 2.100e+01 1.780e+02 5.000e+00\n",
      "  5.000e+00 2.000e+00 6.000e+00 1.000e+00 0.000e+00]\n",
      " [6.000e+00 2.100e+01 1.900e+01 2.000e+01 7.000e+00 2.100e+01 9.000e+00\n",
      "  1.500e+01 7.000e+00 0.000e+00 1.700e+01 1.800e+01 5.000e+00 1.960e+02\n",
      "  1.300e+01 6.000e+00 5.000e+00 0.000e+00 2.000e+00]\n",
      " [9.000e+00 3.400e+01 2.200e+01 2.900e+01 6.000e+00 2.300e+01 8.000e+00\n",
      "  1.900e+01 6.000e+00 3.000e+00 2.600e+01 3.000e+01 5.000e+00 1.300e+01\n",
      "  2.510e+02 2.000e+00 5.000e+00 2.000e+00 1.000e+00]\n",
      " [3.000e+00 2.600e+01 1.300e+01 1.900e+01 4.000e+00 2.500e+01 5.000e+00\n",
      "  1.500e+01 2.000e+00 0.000e+00 1.600e+01 1.100e+01 2.000e+00 6.000e+00\n",
      "  2.000e+00 1.590e+02 2.000e+00 0.000e+00 2.000e+00]\n",
      " [7.000e+00 2.000e+01 1.600e+01 1.400e+01 6.000e+00 2.000e+01 6.000e+00\n",
      "  1.300e+01 4.000e+00 3.000e+00 1.700e+01 2.700e+01 6.000e+00 5.000e+00\n",
      "  5.000e+00 2.000e+00 1.760e+02 1.000e+00 0.000e+00]\n",
      " [0.000e+00 3.000e+00 3.000e+00 1.000e+00 1.000e+00 1.000e+00 3.000e+00\n",
      "  0.000e+00 0.000e+00 1.000e+00 6.000e+00 2.000e+00 1.000e+00 0.000e+00\n",
      "  2.000e+00 0.000e+00 1.000e+00 2.500e+01 0.000e+00]\n",
      " [2.000e+00 6.000e+00 1.000e+00 4.000e+00 1.000e+00 0.000e+00 1.000e+00\n",
      "  2.000e+00 1.000e+00 0.000e+00 1.000e+00 4.000e+00 0.000e+00 2.000e+00\n",
      "  1.000e+00 2.000e+00 0.000e+00 0.000e+00 2.800e+01]]\n"
     ]
    }
   ],
   "source": [
    "print(m)"
   ]
  },
  {
   "cell_type": "code",
   "execution_count": 65,
   "metadata": {},
   "outputs": [
    {
     "name": "stdout",
     "output_type": "stream",
     "text": [
      "1867\n"
     ]
    }
   ],
   "source": [
    "#A quick way to check if the above code did the desired job, the output should be the [1,1] element of the matrix.\n",
    "t=0\n",
    "ids=corder[corder['Product']==product[0]]['Order ID']\n",
    "for k in ids:\n",
    "    if (product[0] in corder[(corder['Order ID']==k)]['Product'].values):\n",
    "         t=t+1\n",
    "print(t)"
   ]
  },
  {
   "cell_type": "code",
   "execution_count": 66,
   "metadata": {},
   "outputs": [
    {
     "data": {
      "text/plain": [
       "<matplotlib.axes._subplots.AxesSubplot at 0x127483a90>"
      ]
     },
     "execution_count": 66,
     "metadata": {},
     "output_type": "execute_result"
    },
    {
     "data": {
      "image/png": "[encoded data removed]",
      "text/plain": [
       "<Figure size 432x288 with 2 Axes>"
      ]
     },
     "metadata": {
      "needs_background": "light"
     },
     "output_type": "display_data"
    }
   ],
   "source": [
    "sns.heatmap(m,cmap='viridis')"
   ]
  },
  {
   "cell_type": "markdown",
   "metadata": {},
   "source": [
    "Again, there are multiple ways to do this.<br>\n",
    "Moreover there are multiple optimizationswe can do to the above<br>\n",
    "Like, the diagonal are the bightest, but irrelevant, we can fill only half the map etc."
   ]
  },
  {
   "cell_type": "code",
   "execution_count": null,
   "metadata": {},
   "outputs": [],
   "source": []
  }
 ],
 "metadata": {
  "kernelspec": {
   "display_name": "Python 3",
   "language": "python",
   "name": "python3"
  },
  "language_info": {
   "codemirror_mode": {
    "name": "ipython",
    "version": 3
   },
   "file_extension": ".py",
   "mimetype": "text/x-python",
   "name": "python",
   "nbconvert_exporter": "python",
   "pygments_lexer": "ipython3",
   "version": "3.7.3"
  }
 },
 "nbformat": 4,
 "nbformat_minor": 2
}
